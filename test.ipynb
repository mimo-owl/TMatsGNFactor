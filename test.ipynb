{
 "cells": [
  {
   "cell_type": "code",
   "execution_count": 1,
   "metadata": {},
   "outputs": [
    {
     "name": "stdout",
     "output_type": "stream",
     "text": [
      "Hello World!\n"
     ]
    }
   ],
   "source": [
    "print(\"Hello World!\")"
   ]
  },
  {
   "cell_type": "code",
   "execution_count": 7,
   "metadata": {},
   "outputs": [],
   "source": [
    "import os                                                                                                                                                                                                   \n",
    "import cv2\n",
    "import imageio   \n"
   ]
  },
  {
   "cell_type": "code",
   "execution_count": 8,
   "metadata": {},
   "outputs": [],
   "source": [
    "# import os\n",
    "# import cv2\n",
    "\n",
    "# 指定されたディレクトリ内のpngファイルを動画に変換する\n",
    "def img_to_video(directory_path, output_path):\n",
    "    # pngファイルを抽出し、数字の小さい順に並び替える\n",
    "    fnames = sorted([fname for fname in os.listdir(directory_path) if fname.endswith(\".png\")], key=lambda x: int(''.join(filter(str.isdigit, x))))\n",
    "    \n",
    "    hgt, wdt, _ = cv2.imread(os.path.join(directory_path, fnames[0])).shape\n",
    "    fourcc = cv2.VideoWriter_fourcc('m', 'p', '4', 'v')\n",
    "    \n",
    "    # 出力先のファイルパスを指定\n",
    "    video = cv2.VideoWriter(output_path, fourcc, 10., (wdt, hgt))\n",
    "\n",
    "    for i, fname in enumerate(fnames):\n",
    "        img = cv2.imread(os.path.join(directory_path, fname))\n",
    "        video.write(img)\n",
    "    video.release()\n",
    "    \n",
    "    # 作成した動画ファイルをGIFに変換\n",
    "    with imageio.get_writer(output_path.replace('.mp4', '.gif'), mode='I') as writer:\n",
    "        for i in range(len(fnames)):\n",
    "            img = imageio.imread(os.path.join(directory_path, fnames[i]))\n",
    "            writer.append_data(img)\n",
    "\n",
    "# # 使用例\n",
    "# directory_path = \"/root/workspace/data/test_data/close_jar/all_variations/episodes/episode0/front_rgb\"\n",
    "# output_path = \"/root/workspace/data/test_data/close_jar/all_variations/episodes/episode0/front_rgb/test_close_jar_0_front_rgb.mp4\"\n",
    "# img_to_video(directory_path, output_path)\n"
   ]
  },
  {
   "cell_type": "code",
   "execution_count": 28,
   "metadata": {},
   "outputs": [
    {
     "name": "stdout",
     "output_type": "stream",
     "text": [
      "start gen_video_main\n",
      "Generating video for: /root/workspace/data/test_data/turn_tap/all_variations/episodes/episode1/left_shoulder_rgb\n",
      "Output path: /root/workspace/data/test_data/turn_tap/all_variations/episodes/episode1/left_shoulder_rgb/video.mp4\n"
     ]
    },
    {
     "name": "stderr",
     "output_type": "stream",
     "text": [
      "/tmp/ipykernel_202715/3972564817.py:23: DeprecationWarning: Starting with ImageIO v3 the behavior of this function will switch to that of iio.v3.imread. To keep the current behavior (and make this warning disappear) use `import imageio.v2 as imageio` or call `imageio.v2.imread` directly.\n",
      "  img = imageio.imread(os.path.join(directory_path, fnames[i]))\n"
     ]
    },
    {
     "name": "stdout",
     "output_type": "stream",
     "text": [
      "Generating video for: /root/workspace/data/test_data/turn_tap/all_variations/episodes/episode1/left_shoulder_depth\n",
      "Output path: /root/workspace/data/test_data/turn_tap/all_variations/episodes/episode1/left_shoulder_depth/video.mp4\n",
      "Generating video for: /root/workspace/data/test_data/turn_tap/all_variations/episodes/episode1/left_shoulder_mask\n",
      "Output path: /root/workspace/data/test_data/turn_tap/all_variations/episodes/episode1/left_shoulder_mask/video.mp4\n",
      "Generating video for: /root/workspace/data/test_data/turn_tap/all_variations/episodes/episode1/right_shoulder_rgb\n",
      "Output path: /root/workspace/data/test_data/turn_tap/all_variations/episodes/episode1/right_shoulder_rgb/video.mp4\n",
      "Generating video for: /root/workspace/data/test_data/turn_tap/all_variations/episodes/episode1/right_shoulder_depth\n",
      "Output path: /root/workspace/data/test_data/turn_tap/all_variations/episodes/episode1/right_shoulder_depth/video.mp4\n",
      "Generating video for: /root/workspace/data/test_data/turn_tap/all_variations/episodes/episode1/right_shoulder_mask\n",
      "Output path: /root/workspace/data/test_data/turn_tap/all_variations/episodes/episode1/right_shoulder_mask/video.mp4\n",
      "Generating video for: /root/workspace/data/test_data/turn_tap/all_variations/episodes/episode1/overhead_rgb\n",
      "Output path: /root/workspace/data/test_data/turn_tap/all_variations/episodes/episode1/overhead_rgb/video.mp4\n",
      "Generating video for: /root/workspace/data/test_data/turn_tap/all_variations/episodes/episode1/overhead_depth\n",
      "Output path: /root/workspace/data/test_data/turn_tap/all_variations/episodes/episode1/overhead_depth/video.mp4\n",
      "Generating video for: /root/workspace/data/test_data/turn_tap/all_variations/episodes/episode1/overhead_mask\n",
      "Output path: /root/workspace/data/test_data/turn_tap/all_variations/episodes/episode1/overhead_mask/video.mp4\n",
      "Generating video for: /root/workspace/data/test_data/turn_tap/all_variations/episodes/episode1/wrist_rgb\n",
      "Output path: /root/workspace/data/test_data/turn_tap/all_variations/episodes/episode1/wrist_rgb/video.mp4\n",
      "Generating video for: /root/workspace/data/test_data/turn_tap/all_variations/episodes/episode1/wrist_depth\n",
      "Output path: /root/workspace/data/test_data/turn_tap/all_variations/episodes/episode1/wrist_depth/video.mp4\n",
      "Generating video for: /root/workspace/data/test_data/turn_tap/all_variations/episodes/episode1/wrist_mask\n",
      "Output path: /root/workspace/data/test_data/turn_tap/all_variations/episodes/episode1/wrist_mask/video.mp4\n",
      "Generating video for: /root/workspace/data/test_data/turn_tap/all_variations/episodes/episode1/front_rgb\n",
      "Output path: /root/workspace/data/test_data/turn_tap/all_variations/episodes/episode1/front_rgb/video.mp4\n",
      "Generating video for: /root/workspace/data/test_data/turn_tap/all_variations/episodes/episode1/front_depth\n",
      "Output path: /root/workspace/data/test_data/turn_tap/all_variations/episodes/episode1/front_depth/video.mp4\n",
      "Generating video for: /root/workspace/data/test_data/turn_tap/all_variations/episodes/episode1/front_mask\n",
      "Output path: /root/workspace/data/test_data/turn_tap/all_variations/episodes/episode1/front_mask/video.mp4\n",
      "Done!\n"
     ]
    }
   ],
   "source": [
    "\n",
    "\n",
    "# 生成したい画像タイプ（ディレクトリ名）を指定し、そのタイプの動画を全てのタスクについて生成\n",
    "def gen_video_main():\n",
    "    print(\"start gen_video_main\")\n",
    "    dir_to_episode = input(\"Enter directory path till .../episodex/: \").strip()  # .strip() で不要な空白を取り除く\n",
    "    \n",
    "    # 指定されたディレクトリ内のサブディレクトリのリストを取得\n",
    "    subdirectories = [d for d in os.listdir(dir_to_episode) if os.path.isdir(os.path.join(dir_to_episode, d))]\n",
    "    \n",
    "    for subdir in subdirectories:\n",
    "        directory_path = os.path.join(dir_to_episode, subdir)\n",
    "        print(f\"Generating video for: {directory_path}\")\n",
    "        output_path = os.path.join(directory_path, \"video.mp4\")\n",
    "        print(f\"Output path: {output_path}\")\n",
    "        img_to_video(directory_path, output_path)\n",
    "            \n",
    "    print(\"Done!\")\n",
    "\n",
    "gen_video_main()\n"
   ]
  },
  {
   "cell_type": "code",
   "execution_count": 25,
   "metadata": {},
   "outputs": [
    {
     "name": "stdout",
     "output_type": "stream",
     "text": [
      "start gen_video_main\n",
      "directory_path: /\n",
      "output_path: //video.mp4\n"
     ]
    },
    {
     "ename": "IndexError",
     "evalue": "list index out of range",
     "output_type": "error",
     "traceback": [
      "\u001b[0;31m---------------------------------------------------------------------------\u001b[0m",
      "\u001b[0;31mIndexError\u001b[0m                                Traceback (most recent call last)",
      "Cell \u001b[0;32mIn[25], line 1\u001b[0m\n\u001b[0;32m----> 1\u001b[0m \u001b[43mgen_video_main\u001b[49m\u001b[43m(\u001b[49m\u001b[43m)\u001b[49m\n",
      "Cell \u001b[0;32mIn[24], line 15\u001b[0m, in \u001b[0;36mgen_video_main\u001b[0;34m()\u001b[0m\n\u001b[1;32m     13\u001b[0m         output_path \u001b[38;5;241m=\u001b[39m directory_path \u001b[38;5;241m+\u001b[39m \u001b[38;5;124m\"\u001b[39m\u001b[38;5;124m/video.mp4\u001b[39m\u001b[38;5;124m\"\u001b[39m\n\u001b[1;32m     14\u001b[0m         \u001b[38;5;28mprint\u001b[39m(\u001b[38;5;124mf\u001b[39m\u001b[38;5;124m\"\u001b[39m\u001b[38;5;124moutput_path: \u001b[39m\u001b[38;5;132;01m{\u001b[39;00moutput_path\u001b[38;5;132;01m}\u001b[39;00m\u001b[38;5;124m\"\u001b[39m)\n\u001b[0;32m---> 15\u001b[0m         \u001b[43mimg_to_video\u001b[49m\u001b[43m(\u001b[49m\u001b[43mdirectory_path\u001b[49m\u001b[43m,\u001b[49m\u001b[43m \u001b[49m\u001b[43moutput_path\u001b[49m\u001b[43m)\u001b[49m\n\u001b[1;32m     17\u001b[0m \u001b[38;5;28mprint\u001b[39m(\u001b[38;5;124m\"\u001b[39m\u001b[38;5;124mDone!\u001b[39m\u001b[38;5;124m\"\u001b[39m)\n",
      "Cell \u001b[0;32mIn[8], line 9\u001b[0m, in \u001b[0;36mimg_to_video\u001b[0;34m(directory_path, output_path)\u001b[0m\n\u001b[1;32m      5\u001b[0m \u001b[38;5;28;01mdef\u001b[39;00m \u001b[38;5;21mimg_to_video\u001b[39m(directory_path, output_path):\n\u001b[1;32m      6\u001b[0m     \u001b[38;5;66;03m# pngファイルを抽出し、数字の小さい順に並び替える\u001b[39;00m\n\u001b[1;32m      7\u001b[0m     fnames \u001b[38;5;241m=\u001b[39m \u001b[38;5;28msorted\u001b[39m([fname \u001b[38;5;28;01mfor\u001b[39;00m fname \u001b[38;5;129;01min\u001b[39;00m os\u001b[38;5;241m.\u001b[39mlistdir(directory_path) \u001b[38;5;28;01mif\u001b[39;00m fname\u001b[38;5;241m.\u001b[39mendswith(\u001b[38;5;124m\"\u001b[39m\u001b[38;5;124m.png\u001b[39m\u001b[38;5;124m\"\u001b[39m)], key\u001b[38;5;241m=\u001b[39m\u001b[38;5;28;01mlambda\u001b[39;00m x: \u001b[38;5;28mint\u001b[39m(\u001b[38;5;124m'\u001b[39m\u001b[38;5;124m'\u001b[39m\u001b[38;5;241m.\u001b[39mjoin(\u001b[38;5;28mfilter\u001b[39m(\u001b[38;5;28mstr\u001b[39m\u001b[38;5;241m.\u001b[39misdigit, x))))\n\u001b[0;32m----> 9\u001b[0m     hgt, wdt, _ \u001b[38;5;241m=\u001b[39m cv2\u001b[38;5;241m.\u001b[39mimread(os\u001b[38;5;241m.\u001b[39mpath\u001b[38;5;241m.\u001b[39mjoin(directory_path, \u001b[43mfnames\u001b[49m\u001b[43m[\u001b[49m\u001b[38;5;241;43m0\u001b[39;49m\u001b[43m]\u001b[49m))\u001b[38;5;241m.\u001b[39mshape\n\u001b[1;32m     10\u001b[0m     fourcc \u001b[38;5;241m=\u001b[39m cv2\u001b[38;5;241m.\u001b[39mVideoWriter_fourcc(\u001b[38;5;124m'\u001b[39m\u001b[38;5;124mm\u001b[39m\u001b[38;5;124m'\u001b[39m, \u001b[38;5;124m'\u001b[39m\u001b[38;5;124mp\u001b[39m\u001b[38;5;124m'\u001b[39m, \u001b[38;5;124m'\u001b[39m\u001b[38;5;124m4\u001b[39m\u001b[38;5;124m'\u001b[39m, \u001b[38;5;124m'\u001b[39m\u001b[38;5;124mv\u001b[39m\u001b[38;5;124m'\u001b[39m)\n\u001b[1;32m     12\u001b[0m     \u001b[38;5;66;03m# 出力先のファイルパスを指定\u001b[39;00m\n",
      "\u001b[0;31mIndexError\u001b[0m: list index out of range"
     ]
    }
   ],
   "source": [
    "gen_video_main()"
   ]
  },
  {
   "cell_type": "code",
   "execution_count": 5,
   "metadata": {},
   "outputs": [],
   "source": [
    "'''\n",
    "# 生成したい画像タイプ（ディレクトリ名）を指定す、そのタイプの動画を全てのタスクについて生成\n",
    "def gen_video_main():\n",
    "    data_type = input(\"###CHOOSE### (train: train_data, test: test_data): \")\n",
    "    print(\"Choose from below:\\nfront_depth\\nleft_shoulder_depth\\noverhead_rgb\\nright_shoulder_rgb\\nwrist_depth\\nfront_mask\\nleft_shoulder_mask\\noverhead_depth\\nright_shoulder_depth\\nwrist_mask\\nfront_rgb\\nleft_shoulder_rgb\\noverhead_mask\\nright_shoulder_mask\\nwrist_rgb\")\n",
    "    img_type = input(\"###CHOOSE### : \")\n",
    "    # 出力先のディレクトリと名前を指定\n",
    "    \n",
    "    if data_type == \"test\":\n",
    "        test_dir = \"/root/workspace/data/test_data/\"\n",
    "        # タスクの数を取得\n",
    "        contents = os.listdir(test_dir)\n",
    "\n",
    "    # タスクの数分、以下の処理を行う\n",
    "    for task in contents:\n",
    "        item_path = os.path.join(directory_path, task)\n",
    "        if os.path.isdir(item_path):\n",
    "            print(task)\n",
    "            temp_dir = test_dir + task + \"/all_variations/episodes/\"\n",
    "            episodes = os.listdir(temp_dir)\n",
    "            for episode in episodes:\n",
    "                directory_path = temp_dir + episode\n",
    "                output_name = \"test_\" + str(task) + \"_\" + str(episode) + img_type \n",
    "\n",
    "            \n",
    "        \n",
    "    if data_type == \"train\":\n",
    "        for i in range 25:\n",
    "            \n",
    "        directory_path = \n",
    "    directory_path = \"/root/workspace/data/test_data/close_jar/all_variations/episodes/episode0/front_rgb\"\n",
    "    output_dir = \"/root/workspace/data/test_data/close_jar/all_variations/episodes/episode0/front_rgb\"\n",
    "    output_name = \"test_close_jar_0_front_rgb.mp4\"\n",
    "    output_path = os.path.join(output_dir, output_name)\n",
    "    img_to_video(directory_path, output_path)\n",
    "    print(\"Done!\")\n",
    "'''\n",
    "        "
   ]
  }
 ],
 "metadata": {
  "kernelspec": {
   "display_name": "Python 3",
   "language": "python",
   "name": "python3"
  },
  "language_info": {
   "codemirror_mode": {
    "name": "ipython",
    "version": 3
   },
   "file_extension": ".py",
   "mimetype": "text/x-python",
   "name": "python",
   "nbconvert_exporter": "python",
   "pygments_lexer": "ipython3",
   "version": "3.9.18"
  }
 },
 "nbformat": 4,
 "nbformat_minor": 2
}
